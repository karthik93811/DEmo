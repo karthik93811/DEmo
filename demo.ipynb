{
  "metadata": {
    "language_info": {
      "codemirror_mode": {
        "name": "python",
        "version": 3
      },
      "file_extension": ".py",
      "mimetype": "text/x-python",
      "name": "python",
      "nbconvert_exporter": "python",
      "pygments_lexer": "ipython3",
      "version": "3.8"
    },
    "kernelspec": {
      "name": "python",
      "display_name": "Pyolite",
      "language": "python"
    },
    "toc-showmarkdowntxt": true,
    "toc-autonumbering": true,
    "toc-showcode": true,
    "toc-showtags": false
  },
  "nbformat_minor": 4,
  "nbformat": 4,
  "cells": [
    {
      "cell_type": "markdown",
      "source": "# My Jupyter Notebook on IBM Watson Studio",
      "metadata": {}
    },
    {
      "cell_type": "markdown",
      "source": " **KARTHIK AVULA**\n I am a student ",
      "metadata": {}
    },
    {
      "cell_type": "markdown",
      "source": "*I am interested in data science because I enjoy problem solving and statistical analysis and I strongly believe that Data science is the future and it is better to be on the cutting-edge than left behind*",
      "metadata": {}
    },
    {
      "cell_type": "markdown",
      "source": "### MY CODE WILL PRINT EVEN NUMBERS FROM 1 TO 10 ###",
      "metadata": {}
    },
    {
      "cell_type": "code",
      "source": "for i in range(1,10):\n    if i%2==0:\n        print(i)",
      "metadata": {
        "trusted": true
      },
      "execution_count": 1,
      "outputs": [
        {
          "name": "stdout",
          "text": "2\n4\n6\n8\n",
          "output_type": "stream"
        }
      ]
    },
    {
      "cell_type": "markdown",
      "source": "***\nWatson studio is very helpful for Data Science!\n***\n<a href =\"https://www.ibm.com/cloud/watson-studio\" target=\"_blank\">watson-studio</a>\n\n![IBM Watson-Studio Logo is here](https://eduemailshop.com/wp-content/uploads/2020/08/Benefit-IBM-Watson-Studio-Desktop-Edu-Email-Shop.png)\n\n * Following are some of the features provided by the IBM Watson Studio:\n 1. Data Visualization\n 2. Data Analysis\n 3. Data Modeling\n \n ",
      "metadata": {}
    }
  ]
}